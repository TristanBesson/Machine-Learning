{
 "cells": [
  {
   "cell_type": "code",
   "execution_count": 18,
   "metadata": {
    "collapsed": false
   },
   "outputs": [],
   "source": [
    "##Imports\n",
    "import numpy as np\n",
    "from ex_helpers import *  #checker le quel est le bon\n",
    "from proj1_helpers import *\n",
    "from implementations import *\n",
    "import matplotlib.pyplot as plt\n",
    "import pandas as pd"
   ]
  },
  {
   "cell_type": "code",
   "execution_count": 3,
   "metadata": {
    "collapsed": false
   },
   "outputs": [],
   "source": [
    "#Load data\n",
    "DATA_TRAIN = 'data/train.csv'\n",
    "class_label,features,event_id = load_csv_data(DATA_TRAIN)\n",
    "\n",
    "#Replace 999 of data with NaNs\n",
    "features_nan=features.copy()\n",
    "features_nan[features_nan ==-999] = np.nan"
   ]
  },
  {
   "cell_type": "code",
   "execution_count": 4,
   "metadata": {
    "collapsed": false
   },
   "outputs": [
    {
     "name": "stdout",
     "output_type": "stream",
     "text": [
      "To drop column 5 with  0.709828\n",
      "To drop column 6 with  0.709828\n",
      "To drop column 7 with  0.709828\n",
      "To drop column 13 with  0.709828\n",
      "To drop column 27 with  0.709828\n",
      "To drop column 28 with  0.709828\n",
      "To drop column 29 with  0.709828\n"
     ]
    }
   ],
   "source": [
    "#Maybe evaluate % of NaNs (if to much NaNs -> discard column)\n",
    "threshold_Drop = 0.5 \n",
    "\n",
    "for i in range(0,features_nan.shape[1]):\n",
    "    column_count = 0\n",
    "    for j in range(0,features_nan.shape[0]):\n",
    "        if np.isnan(features_nan.item((j,i))):\n",
    "            column_count +=1\n",
    "    percent_nan = float(column_count)/features_nan.shape[0]\n",
    "    if percent_nan > threshold_Drop:\n",
    "        print 'To drop column', i+1,'with ', percent_nan     "
   ]
  },
  {
   "cell_type": "code",
   "execution_count": 5,
   "metadata": {
    "collapsed": false
   },
   "outputs": [],
   "source": [
    "#Standardize data by substracting to each colums its mean and dividing by standard deviation\n",
    "tx = features_nan.copy()\n",
    "tx = np.delete(tx, 28, 1)\n",
    "tx = np.delete(tx, 27, 1)\n",
    "tx = np.delete(tx, 26, 1)\n",
    "tx = np.delete(tx, 12, 1)\n",
    "tx = np.delete(tx, 6, 1)\n",
    "tx = np.delete(tx, 5, 1)\n",
    "tx = np.delete(tx, 4, 1)\n",
    "\n",
    "for i in range(0,tx.shape[1]):\n",
    "    tx[:,i] = (tx[:,i] - np.nanmean(tx[:,i]))/np.nanstd(tx[:,i]) \n"
   ]
  },
  {
   "cell_type": "code",
   "execution_count": null,
   "metadata": {
    "collapsed": false
   },
   "outputs": [],
   "source": [
    "#Plot every feature according to an other (voir PDF lazare) to \"visualize our data\"\n",
    "data = pd.read_csv(DATA_TRAIN)"
   ]
  },
  {
   "cell_type": "code",
   "execution_count": null,
   "metadata": {
    "collapsed": true
   },
   "outputs": [],
   "source": [
    "#Do something about NaNs (a trouver: chercher dans les papers que faire quand ya des NaNs dans la data)\n",
    "\n",
    "from pandas.plotting import scatter_matrix\n",
    "scatter_matrix(data, alpha=0.2, figsize=(6, 6), diagonal='kde')"
   ]
  },
  {
   "cell_type": "code",
   "execution_count": null,
   "metadata": {
    "collapsed": true
   },
   "outputs": [],
   "source": [
    "#Evaluate variance to see most explaining data\n",
    "\n",
    "\n"
   ]
  },
  {
   "cell_type": "code",
   "execution_count": null,
   "metadata": {
    "collapsed": true
   },
   "outputs": [],
   "source": [
    "#Kernel trick or other tricks (polynomials)to augment the dimensions of data with best features couples (if strongly correlated: see from first figure)\n",
    "\n",
    "\n"
   ]
  }
 ],
 "metadata": {
  "kernelspec": {
   "display_name": "Python 2",
   "language": "python",
   "name": "python2"
  },
  "language_info": {
   "codemirror_mode": {
    "name": "ipython",
    "version": 2
   },
   "file_extension": ".py",
   "mimetype": "text/x-python",
   "name": "python",
   "nbconvert_exporter": "python",
   "pygments_lexer": "ipython2",
   "version": "2.7.13"
  }
 },
 "nbformat": 4,
 "nbformat_minor": 2
}
